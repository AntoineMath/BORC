{
 "cells": [
  {
   "cell_type": "code",
   "execution_count": 2,
   "metadata": {},
   "outputs": [],
   "source": [
    "import numpy as np\n",
    "import pandas as pd\n",
    "import matplotlib.pyplot as plt"
   ]
  },
  {
   "cell_type": "code",
   "execution_count": 4,
   "metadata": {},
   "outputs": [],
   "source": [
    "df = pd.read_csv('../data/BTCUSDT_1MIN_22_08_2019.csv')"
   ]
  },
  {
   "cell_type": "code",
   "execution_count": 5,
   "metadata": {},
   "outputs": [
    {
     "data": {
      "text/html": [
       "<div>\n",
       "<style scoped>\n",
       "    .dataframe tbody tr th:only-of-type {\n",
       "        vertical-align: middle;\n",
       "    }\n",
       "\n",
       "    .dataframe tbody tr th {\n",
       "        vertical-align: top;\n",
       "    }\n",
       "\n",
       "    .dataframe thead th {\n",
       "        text-align: right;\n",
       "    }\n",
       "</style>\n",
       "<table border=\"1\" class=\"dataframe\">\n",
       "  <thead>\n",
       "    <tr style=\"text-align: right;\">\n",
       "      <th></th>\n",
       "      <th>open_time</th>\n",
       "      <th>open</th>\n",
       "      <th>high</th>\n",
       "      <th>low</th>\n",
       "      <th>close</th>\n",
       "      <th>volume</th>\n",
       "      <th>close_time</th>\n",
       "      <th>quote_asset_volume</th>\n",
       "      <th>number_of_trades</th>\n",
       "      <th>taker_buy_base_asset_volume</th>\n",
       "      <th>taker_buy_quote_asset_volume</th>\n",
       "      <th>ignore</th>\n",
       "    </tr>\n",
       "  </thead>\n",
       "  <tbody>\n",
       "    <tr>\n",
       "      <th>0</th>\n",
       "      <td>2018-08-22 18:49:00</td>\n",
       "      <td>6442.68</td>\n",
       "      <td>6443.53</td>\n",
       "      <td>6437.47</td>\n",
       "      <td>6439.01</td>\n",
       "      <td>10.543102</td>\n",
       "      <td>1534963799999</td>\n",
       "      <td>67905.329570</td>\n",
       "      <td>127</td>\n",
       "      <td>5.381330</td>\n",
       "      <td>34662.313627</td>\n",
       "      <td>0</td>\n",
       "    </tr>\n",
       "    <tr>\n",
       "      <th>1</th>\n",
       "      <td>2018-08-22 18:50:00</td>\n",
       "      <td>6439.50</td>\n",
       "      <td>6440.00</td>\n",
       "      <td>6430.00</td>\n",
       "      <td>6438.95</td>\n",
       "      <td>31.740422</td>\n",
       "      <td>1534963859999</td>\n",
       "      <td>204202.835533</td>\n",
       "      <td>135</td>\n",
       "      <td>6.107316</td>\n",
       "      <td>39304.914095</td>\n",
       "      <td>0</td>\n",
       "    </tr>\n",
       "    <tr>\n",
       "      <th>2</th>\n",
       "      <td>2018-08-22 18:51:00</td>\n",
       "      <td>6438.93</td>\n",
       "      <td>6438.94</td>\n",
       "      <td>6430.78</td>\n",
       "      <td>6434.78</td>\n",
       "      <td>18.647750</td>\n",
       "      <td>1534963919999</td>\n",
       "      <td>119943.428541</td>\n",
       "      <td>93</td>\n",
       "      <td>11.122065</td>\n",
       "      <td>71537.758087</td>\n",
       "      <td>0</td>\n",
       "    </tr>\n",
       "    <tr>\n",
       "      <th>3</th>\n",
       "      <td>2018-08-22 18:52:00</td>\n",
       "      <td>6434.78</td>\n",
       "      <td>6434.78</td>\n",
       "      <td>6425.00</td>\n",
       "      <td>6430.00</td>\n",
       "      <td>41.654808</td>\n",
       "      <td>1534963979999</td>\n",
       "      <td>267776.370487</td>\n",
       "      <td>184</td>\n",
       "      <td>15.842377</td>\n",
       "      <td>101871.051251</td>\n",
       "      <td>0</td>\n",
       "    </tr>\n",
       "    <tr>\n",
       "      <th>4</th>\n",
       "      <td>2018-08-22 18:53:00</td>\n",
       "      <td>6429.28</td>\n",
       "      <td>6430.00</td>\n",
       "      <td>6425.00</td>\n",
       "      <td>6429.99</td>\n",
       "      <td>47.737860</td>\n",
       "      <td>1534964039999</td>\n",
       "      <td>306824.781339</td>\n",
       "      <td>187</td>\n",
       "      <td>29.734171</td>\n",
       "      <td>191108.191827</td>\n",
       "      <td>0</td>\n",
       "    </tr>\n",
       "  </tbody>\n",
       "</table>\n",
       "</div>"
      ],
      "text/plain": [
       "             open_time     open     high      low    close     volume  \\\n",
       "0  2018-08-22 18:49:00  6442.68  6443.53  6437.47  6439.01  10.543102   \n",
       "1  2018-08-22 18:50:00  6439.50  6440.00  6430.00  6438.95  31.740422   \n",
       "2  2018-08-22 18:51:00  6438.93  6438.94  6430.78  6434.78  18.647750   \n",
       "3  2018-08-22 18:52:00  6434.78  6434.78  6425.00  6430.00  41.654808   \n",
       "4  2018-08-22 18:53:00  6429.28  6430.00  6425.00  6429.99  47.737860   \n",
       "\n",
       "      close_time  quote_asset_volume  number_of_trades  \\\n",
       "0  1534963799999        67905.329570               127   \n",
       "1  1534963859999       204202.835533               135   \n",
       "2  1534963919999       119943.428541                93   \n",
       "3  1534963979999       267776.370487               184   \n",
       "4  1534964039999       306824.781339               187   \n",
       "\n",
       "   taker_buy_base_asset_volume  taker_buy_quote_asset_volume  ignore  \n",
       "0                     5.381330                  34662.313627       0  \n",
       "1                     6.107316                  39304.914095       0  \n",
       "2                    11.122065                  71537.758087       0  \n",
       "3                    15.842377                 101871.051251       0  \n",
       "4                    29.734171                 191108.191827       0  "
      ]
     },
     "execution_count": 5,
     "metadata": {},
     "output_type": "execute_result"
    }
   ],
   "source": [
    "df.head()"
   ]
  },
  {
   "cell_type": "code",
   "execution_count": 1,
   "metadata": {},
   "outputs": [
    {
     "ename": "NameError",
     "evalue": "name 'plt' is not defined",
     "output_type": "error",
     "traceback": [
      "\u001b[1;31m---------------------------------------------------------------------------\u001b[0m",
      "\u001b[1;31mNameError\u001b[0m                                 Traceback (most recent call last)",
      "\u001b[1;32m<ipython-input-1-bc936262abea>\u001b[0m in \u001b[0;36m<module>\u001b[1;34m\u001b[0m\n\u001b[1;32m----> 1\u001b[1;33m \u001b[0mplt\u001b[0m\u001b[1;33m.\u001b[0m\u001b[0mfigure\u001b[0m\u001b[1;33m(\u001b[0m\u001b[0mfigsize\u001b[0m\u001b[1;33m=\u001b[0m\u001b[1;33m(\u001b[0m\u001b[1;36m17\u001b[0m\u001b[1;33m,\u001b[0m \u001b[1;36m8\u001b[0m\u001b[1;33m)\u001b[0m\u001b[1;33m)\u001b[0m\u001b[1;33m\u001b[0m\u001b[1;33m\u001b[0m\u001b[0m\n\u001b[0m\u001b[0;32m      2\u001b[0m \u001b[0mplt\u001b[0m\u001b[1;33m.\u001b[0m\u001b[0mplot\u001b[0m\u001b[1;33m(\u001b[0m\u001b[0mdf\u001b[0m\u001b[1;33m.\u001b[0m\u001b[0mClose\u001b[0m\u001b[1;33m)\u001b[0m\u001b[1;33m\u001b[0m\u001b[1;33m\u001b[0m\u001b[0m\n\u001b[0;32m      3\u001b[0m \u001b[0mplt\u001b[0m\u001b[1;33m.\u001b[0m\u001b[0mplot\u001b[0m\u001b[1;33m(\u001b[0m\u001b[0mdf\u001b[0m\u001b[1;33m.\u001b[0m\u001b[0mVolume\u001b[0m\u001b[1;33m)\u001b[0m\u001b[1;33m\u001b[0m\u001b[1;33m\u001b[0m\u001b[0m\n\u001b[0;32m      4\u001b[0m \u001b[0mplt\u001b[0m\u001b[1;33m.\u001b[0m\u001b[0mxlabel\u001b[0m\u001b[1;33m(\u001b[0m\u001b[1;34m'Time'\u001b[0m\u001b[1;33m)\u001b[0m\u001b[1;33m\u001b[0m\u001b[1;33m\u001b[0m\u001b[0m\n\u001b[0;32m      5\u001b[0m \u001b[0mplt\u001b[0m\u001b[1;33m.\u001b[0m\u001b[0mtitle\u001b[0m\u001b[1;33m(\u001b[0m\u001b[1;34m'Closing price of the Bitcoin'\u001b[0m\u001b[1;33m)\u001b[0m\u001b[1;33m\u001b[0m\u001b[1;33m\u001b[0m\u001b[0m\n",
      "\u001b[1;31mNameError\u001b[0m: name 'plt' is not defined"
     ]
    }
   ],
   "source": [
    "plt.figure(figsize=(17, 8))\n",
    "plt.plot(df.Close)\n",
    "plt.plot(df.Volume)\n",
    "plt.xlabel('Time')\n",
    "plt.title('Closing price of the Bitcoin')\n",
    "plt.ylabel('Closing price (USD)')\n",
    "plt.grid(False)\n",
    "plt.show()\n",
    "aya=\"ala\""
   ]
  },
  {
   "cell_type": "code",
   "execution_count": null,
   "metadata": {},
   "outputs": [],
   "source": []
  }
 ],
 "metadata": {
  "kernelspec": {
   "display_name": "Python 3",
   "language": "python",
   "name": "python3"
  },
  "language_info": {
   "codemirror_mode": {
    "name": "ipython",
    "version": 3
   },
   "file_extension": ".py",
   "mimetype": "text/x-python",
   "name": "python",
   "nbconvert_exporter": "python",
   "pygments_lexer": "ipython3",
   "version": "3.7.2"
  }
 },
 "nbformat": 4,
 "nbformat_minor": 2
}
